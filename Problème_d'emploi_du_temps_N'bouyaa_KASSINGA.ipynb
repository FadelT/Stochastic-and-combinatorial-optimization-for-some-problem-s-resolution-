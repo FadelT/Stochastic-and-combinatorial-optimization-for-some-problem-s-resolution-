{
  "nbformat": 4,
  "nbformat_minor": 0,
  "metadata": {
    "colab": {
      "name": "Problème d'emploi du temps_N'bouyaa_KASSINGA.ipynb",
      "provenance": [],
      "collapsed_sections": [
        "oNkNoNfhXlQS"
      ]
    },
    "kernelspec": {
      "name": "python3",
      "display_name": "Python 3"
    },
    "language_info": {
      "name": "python"
    }
  },
  "cells": [
    {
      "cell_type": "markdown",
      "metadata": {
        "id": "QBCZL0pHtJn-"
      },
      "source": [
        "#Problème d'emploi du temps"
      ]
    },
    {
      "cell_type": "code",
      "metadata": {
        "id": "vuCNQojfHyG0"
      },
      "source": [
        "#importer les librairies nécessaires\n",
        "import numpy as np\n",
        "import matplotlib.pyplot as plt\n",
        "import random\n",
        "import numpy as np\n",
        "import time\n",
        "import seaborn as sns\n",
        "import pandas as pd"
      ],
      "execution_count": null,
      "outputs": []
    },
    {
      "cell_type": "code",
      "metadata": {
        "id": "20CZ43yNtnLN"
      },
      "source": [
        "class ProbEdt:\n",
        "  def __init__(self, K,m,n):\n",
        "    self.K=K #Créneaux \n",
        "    self.m=m #Professeurs\n",
        "    self.n=n #Classes \n",
        "\n",
        "  def solutions_hasard(self,method=None):\n",
        "      \n",
        "      if method=='complexe' and self.n==20:\n",
        "          aff = []\n",
        "          for i in range(1,41):\n",
        "              for j in range(5):\n",
        "                  aff.append(i)\n",
        "          aff = np.array(aff).reshape(10,20).T\n",
        "          for j in range(10):\n",
        "              aff[:,j] = np.random.permutation(aff[:,j])\n",
        "          \n",
        "          s = []\n",
        "          for i in range(20):\n",
        "              s.append([])\n",
        "              for j in range(10):\n",
        "                  s[i].extend([aff[i,j], aff[i,j]] )\n",
        "              s[i] = np.random.permutation(s[i]) \n",
        "          return s \n",
        "      else:\n",
        "        aff=[]\n",
        "        for i in range(1,self.m+1):\n",
        "          for j in range(3):\n",
        "            aff.append(i)\n",
        "        aff=np.array(aff).reshape(6, self.n).T\n",
        "        for j in range(6):\n",
        "          aff[:,j]=np.random.permutation(aff[:,j])\n",
        "        s=[]\n",
        "        for i in range(self.n):\n",
        "          s.append([])\n",
        "          for j in range(6):\n",
        "            s[i].extend([aff[i,j],aff[i,j],aff[i,j]])\n",
        "          s[i].extend([0,0])\n",
        "        for i in range(self.n):\n",
        "            s[i]=np.random.permutation(s[i])\n",
        "        return s\n",
        "\n",
        "\n",
        "  def voisin_solution_hasard(self,S):\n",
        "      s_voisin=np.copy( S)\n",
        "      i,j=random.randint(0,len(S[1])), random.randint(0,len(S[1]))\n",
        "      k=np.random.randint(0,len(S))\n",
        "      s_voisin[k][i],s_voisin[k][j]=s_voisin[k][j],s_voisin[k][i]\n",
        "      return s_voisin\n",
        "\n",
        "      \n",
        "\n",
        "\n",
        "  \n",
        "  def permutliste(self,s, er=False):#cette fonction est importante dans le calcul de la fonction  \"tous_lesvoisinssansexc\"\n",
        "      \"\"\"Retourne la liste de toutes les permutations de la liste seq (non récursif).\n",
        "        si er=True: élimination des répétitions quand seq en a (ex: [1,2,2]\n",
        "      \"\"\"\n",
        "      p = [s.tolist()]\n",
        "      n = len(s)\n",
        "      for k in range(0,n-1):\n",
        "          for i in range(0, len(p)):\n",
        "              z = p[i][:]\n",
        "              for c in range(0,n-k-1):\n",
        "                  z.append(z.pop(k))\n",
        "                  if er==False or (z not in p):\n",
        "                      p.append(z[:])\n",
        "      return p\n",
        "  def tous_lesvoisins(self,S):\n",
        "      L=[]\n",
        "      for k in range(len(S)):\n",
        "        for i in range(len(S[1])):\n",
        "          for j in range(i+1,len(S[1])):\n",
        "              s_voisin=np.copy(S)\n",
        "              s_voisin[k][i],s_voisin[k][j]=s_voisin[k][j],s_voisin[k][i]\n",
        "              L.append(s_voisin)\n",
        "      return L\n",
        "\n",
        "  def tous_lesvoisinssansexc(self,S):#tous les voisins d'une solution donnée sans exception. Cependant nous n'allons pas l'utiliser car il prend énormément de temps puisqu'il y'aura un très grand nombre de voisins.\n",
        "      L=[]\n",
        "      for i in range(len(S)):\n",
        "        J=self.permutliste(S[i],er=True)\n",
        "        for p in range(len(J)):\n",
        "          S[i]=J[p]\n",
        "          L.append(S)\n",
        "      \n",
        "      return L\n",
        "\n",
        "\n",
        "  def doublons(self,L):\n",
        "      cpt=0\n",
        "      dico={}\n",
        "      for a in L:\n",
        "        if a in dico:\n",
        "          cpt+=1\n",
        "        dico[a]=True\n",
        "      return cpt\n",
        "\n",
        "  def coût(self, S):\n",
        "      coût=0\n",
        "      for i in range(len(S)):\n",
        "        coût+=self.doublons(np.array(S).reshape((len(S),len(S[0]))).T[i].tolist())\n",
        "      return coût\n",
        "\n",
        "  def argmin_J(self,s,p):\n",
        "    L=self.tous_lesvoisins(s)\n",
        "    List_cout=[]\n",
        "    for i in range(len(L)):\n",
        "      List_cout.append(self.coût(L[i]))\n",
        "      ind=List_cout.index(min(List_cout))\n",
        "    return L[ind]\n",
        "\n",
        "        \n",
        "\n"
      ],
      "execution_count": null,
      "outputs": []
    },
    {
      "cell_type": "code",
      "metadata": {
        "id": "RAfAYMoNsUoT"
      },
      "source": [
        "#Monte_carlo\n",
        "def Mont_carlo(N,Pb,S):\n",
        "  ref=np.copy(S)\n",
        "  J1=float('inf')\n",
        "  for i in range(1, N, 1):\n",
        "    s=np.copy(ref)\n",
        "    for i in range(Pb.n):\n",
        "      s[i]=np.random.permutation(s[i])\n",
        "    J=Pb.coût(s)\n",
        "    if J<J1:\n",
        "      J1=J\n",
        "      s1=s\n",
        "  return s1"
      ],
      "execution_count": null,
      "outputs": []
    },
    {
      "cell_type": "code",
      "metadata": {
        "id": "jTIyitJ3sYAx"
      },
      "source": [
        "#Glouton\n",
        "def Glouton(Pb,s):\n",
        "  J1=np.float('inf')\n",
        "  while Pb.coût(s)<J1:\n",
        "    J1=Pb.coût(s)\n",
        "    s=Pb.argmin_J(s,s)\n",
        "  return s"
      ],
      "execution_count": null,
      "outputs": []
    },
    {
      "cell_type": "code",
      "metadata": {
        "id": "2Zv6FQpBscp6"
      },
      "source": [
        "#GloutonAléatoire\n",
        "def GloutonAleat(N,Pb,s,method=None):\n",
        "  J1=np.float('inf')\n",
        "  for i in range(1,N,1):\n",
        "    if method=='complexe':\n",
        "      s1=Pb.solutions_hasard(method='complexe')\n",
        "    else:\n",
        "      s1=Pb.solutions_hasard()\n",
        "    if Pb.coût(s1)<Pb.coût(s):\n",
        "      J1=Pb.coût(s1)\n",
        "      s=s1\n",
        "  return s"
      ],
      "execution_count": null,
      "outputs": []
    },
    {
      "cell_type": "code",
      "metadata": {
        "id": "Fb8YSruAss9-"
      },
      "source": [
        "#Tabou\n",
        "def Tabou(s,K,Pb):\n",
        "  J1=float('inf')\n",
        "  Tabou=[]\n",
        "  for i in range(1, len(s),1):\n",
        "    if Pb.coût(s)<J1:\n",
        "      J1=Pb.coût(s)\n",
        "      s1=s\n",
        "      Tabou.append(s)\n",
        "    if len(Tabou)>K:\n",
        "      Tabou.pop(0)\n",
        "    s=Pb.argmin_J(s, Tabou)\n",
        "  return s1"
      ],
      "execution_count": null,
      "outputs": []
    },
    {
      "cell_type": "code",
      "metadata": {
        "colab": {
          "base_uri": "https://localhost:8080/"
        },
        "id": "Tx1iSyH5apJF",
        "outputId": "a3bd2baa-fde1-475c-f402-3e8c033863c1"
      },
      "source": [
        "np.math.factorial(20)*16"
      ],
      "execution_count": null,
      "outputs": [
        {
          "output_type": "execute_result",
          "data": {
            "text/plain": [
              "38926432130826240000"
            ]
          },
          "metadata": {
            "tags": []
          },
          "execution_count": 349
        }
      ]
    },
    {
      "cell_type": "markdown",
      "metadata": {
        "id": "aw6iWl2msiQ-"
      },
      "source": [
        ""
      ]
    },
    {
      "cell_type": "markdown",
      "metadata": {
        "id": "1lbFe7CzZxaB"
      },
      "source": [
        "#Réponses aux questions\n"
      ]
    },
    {
      "cell_type": "markdown",
      "metadata": {
        "id": "q079fOdgZ02a"
      },
      "source": [
        "\n",
        "\n",
        "*   Ce problème accepte 16x20! solutions  soit 38926432130826240000 solutions.\n",
        "*   Un voisin d'une solution S donnée peut être une permutation entre deux éléments distincts d'une liste s(i) quelconque de S.\n",
        "\n",
        "*   Suivant cette définition,on a : une liste quelconque s(i) de S admet [(20!):[((3!)^6)x2!]] permutations possibles en éliminants les permutations identiques. Ainsi, sachant que nous avons 16 classes et que s(i) présente l'ordonancement pour une classe i donnée, nous aurons [(20!)/[((3!)^6)x2!]] * 16 voisins pour une solution S donnée. \n",
        "\n",
        "\n",
        "\n"
      ]
    },
    {
      "cell_type": "markdown",
      "metadata": {
        "id": "oNkNoNfhXlQS"
      },
      "source": [
        "#Test"
      ]
    },
    {
      "cell_type": "code",
      "metadata": {
        "id": "UuAaA8ZPO2jQ"
      },
      "source": [
        "List_temps=[]\n",
        "List_coût=[]\n",
        "List_Algo=['Solution_hasard','Monte_Carlo','Glouton','GloutonAlea','Tabou']"
      ],
      "execution_count": null,
      "outputs": []
    },
    {
      "cell_type": "code",
      "metadata": {
        "id": "jXfVYRfXXlFH"
      },
      "source": [
        "K=20\n",
        "m=32\n",
        "n=16\n",
        "ProbEd=ProbEdt(K,m,n)"
      ],
      "execution_count": null,
      "outputs": []
    },
    {
      "cell_type": "code",
      "metadata": {
        "id": "UJlxoFlWX8SD"
      },
      "source": [
        "#Solution au hasard\n",
        "start_time = time.time()\n",
        "Solution_ahas=ProbEd.solutions_hasard()\n",
        "end_time = time.time()\n",
        "total_time=end_time-start_time\n",
        "List_temps.append(total_time)"
      ],
      "execution_count": null,
      "outputs": []
    },
    {
      "cell_type": "code",
      "metadata": {
        "id": "ASVb2YqkYImh"
      },
      "source": [
        "ProbEd.coût(Solution_ahas)\n",
        "List_coût.append(ProbEd.coût(Solution_ahas))"
      ],
      "execution_count": null,
      "outputs": []
    },
    {
      "cell_type": "code",
      "metadata": {
        "id": "A0nxpTWcmFw_"
      },
      "source": [
        "#Monte_carlo\n",
        "start_time = time.time()\n",
        "Mont_carlo(10000,ProbEd,Solution_ahas)\n",
        "end_time = time.time()\n",
        "total_time=end_time-start_time\n",
        "List_temps.append(total_time)\n"
      ],
      "execution_count": null,
      "outputs": []
    },
    {
      "cell_type": "code",
      "metadata": {
        "id": "PgU6RMqasIqT"
      },
      "source": [
        "#Monte_carlo\n",
        "ProbEd.coût(Mont_carlo(10000,ProbEd,Solution_ahas))\n",
        "List_coût.append(ProbEd.coût(Mont_carlo(10000,ProbEd,Solution_ahas)))"
      ],
      "execution_count": null,
      "outputs": []
    },
    {
      "cell_type": "code",
      "metadata": {
        "id": "JDYEZ50vsoXj"
      },
      "source": [
        "#Glouton\n",
        "start_time = time.time()\n",
        "Glouton(ProbEd,Solution_ahas)\n",
        "end_time = time.time()\n",
        "total_time=end_time-start_time\n",
        "List_temps.append(total_time)"
      ],
      "execution_count": null,
      "outputs": []
    },
    {
      "cell_type": "code",
      "metadata": {
        "id": "yKJsZX20p5vo"
      },
      "source": [
        "#Glouton\n",
        "ProbEd.coût(Glouton(ProbEd,Solution_ahas))\n",
        "List_coût.append(ProbEd.coût(Glouton(ProbEd,Solution_ahas)))"
      ],
      "execution_count": null,
      "outputs": []
    },
    {
      "cell_type": "code",
      "metadata": {
        "id": "uO6s1uD0nbT3"
      },
      "source": [
        "#GloutonAléatoire\n",
        "start_time = time.time()\n",
        "GloutonAleat(1000,ProbEd,Solution_ahas)\n",
        "end_time = time.time()\n",
        "total_time=end_time-start_time\n",
        "List_temps.append(total_time)"
      ],
      "execution_count": null,
      "outputs": []
    },
    {
      "cell_type": "code",
      "metadata": {
        "id": "zuorq3xssC9E"
      },
      "source": [
        "#GloutonAléatoire\n",
        "ProbEd.coût(GloutonAleat(1000,ProbEd,Solution_ahas))\n",
        "List_coût.append(ProbEd.coût(GloutonAleat(1000,ProbEd,Solution_ahas)))"
      ],
      "execution_count": null,
      "outputs": []
    },
    {
      "cell_type": "code",
      "metadata": {
        "id": "BGhNvDseGQ96"
      },
      "source": [
        "#Tabou\n",
        "start_time = time.time()\n",
        "Tabou(Solution_ahas,K,ProbEd)\n",
        "end_time = time.time()\n",
        "total_time=end_time-start_time\n",
        "List_temps.append(total_time)"
      ],
      "execution_count": null,
      "outputs": []
    },
    {
      "cell_type": "code",
      "metadata": {
        "id": "dkceGN0PHggE"
      },
      "source": [
        "#Tabou\n",
        "ProbEd.coût(Tabou(Solution_ahas,K,ProbEd))\n",
        "List_coût.append(ProbEd.coût(Tabou(Solution_ahas,K,ProbEd)))"
      ],
      "execution_count": null,
      "outputs": []
    },
    {
      "cell_type": "code",
      "metadata": {
        "id": "9EsaAyGBQCh1"
      },
      "source": [
        "df = pd.DataFrame(dict(List_Algo=List_Algo,List_temps=List_temps, List_coût=List_coût))"
      ],
      "execution_count": null,
      "outputs": []
    },
    {
      "cell_type": "code",
      "metadata": {
        "colab": {
          "base_uri": "https://localhost:8080/",
          "height": 202
        },
        "id": "-PEbGjefQDRy",
        "outputId": "cbdfefa6-c4f5-4ee7-efca-2e1050c70643"
      },
      "source": [
        "df"
      ],
      "execution_count": null,
      "outputs": [
        {
          "output_type": "execute_result",
          "data": {
            "text/html": [
              "<div>\n",
              "<style scoped>\n",
              "    .dataframe tbody tr th:only-of-type {\n",
              "        vertical-align: middle;\n",
              "    }\n",
              "\n",
              "    .dataframe tbody tr th {\n",
              "        vertical-align: top;\n",
              "    }\n",
              "\n",
              "    .dataframe thead th {\n",
              "        text-align: right;\n",
              "    }\n",
              "</style>\n",
              "<table border=\"1\" class=\"dataframe\">\n",
              "  <thead>\n",
              "    <tr style=\"text-align: right;\">\n",
              "      <th></th>\n",
              "      <th>List_Algo</th>\n",
              "      <th>List_temps</th>\n",
              "      <th>List_coût</th>\n",
              "    </tr>\n",
              "  </thead>\n",
              "  <tbody>\n",
              "    <tr>\n",
              "      <th>0</th>\n",
              "      <td>Solution_hasard</td>\n",
              "      <td>0.001092</td>\n",
              "      <td>48</td>\n",
              "    </tr>\n",
              "    <tr>\n",
              "      <th>1</th>\n",
              "      <td>Monte_Carlo</td>\n",
              "      <td>1.624835</td>\n",
              "      <td>27</td>\n",
              "    </tr>\n",
              "    <tr>\n",
              "      <th>2</th>\n",
              "      <td>Glouton</td>\n",
              "      <td>10.648737</td>\n",
              "      <td>0</td>\n",
              "    </tr>\n",
              "    <tr>\n",
              "      <th>3</th>\n",
              "      <td>GloutonAlea</td>\n",
              "      <td>0.635452</td>\n",
              "      <td>28</td>\n",
              "    </tr>\n",
              "    <tr>\n",
              "      <th>4</th>\n",
              "      <td>Tabou</td>\n",
              "      <td>5.378839</td>\n",
              "      <td>20</td>\n",
              "    </tr>\n",
              "  </tbody>\n",
              "</table>\n",
              "</div>"
            ],
            "text/plain": [
              "         List_Algo  List_temps  List_coût\n",
              "0  Solution_hasard    0.001092         48\n",
              "1      Monte_Carlo    1.624835         27\n",
              "2          Glouton   10.648737          0\n",
              "3      GloutonAlea    0.635452         28\n",
              "4            Tabou    5.378839         20"
            ]
          },
          "metadata": {
            "tags": []
          },
          "execution_count": 47
        }
      ]
    },
    {
      "cell_type": "code",
      "metadata": {
        "colab": {
          "base_uri": "https://localhost:8080/",
          "height": 354
        },
        "id": "BNtuQrO0QD7N",
        "outputId": "d570f220-8101-4ca5-90bf-938cd73b87bc"
      },
      "source": [
        "sns.scatterplot(List_temps, List_coût, data=df,hue=List_Algo)\n",
        "plt.xlabel(\"temps d'exécution en secondes\",color='blue')\n",
        "plt.ylabel('Coût de la solution', color='blue')"
      ],
      "execution_count": null,
      "outputs": [
        {
          "output_type": "stream",
          "text": [
            "/usr/local/lib/python3.7/dist-packages/seaborn/_decorators.py:43: FutureWarning: Pass the following variables as keyword args: x, y. From version 0.12, the only valid positional argument will be `data`, and passing other arguments without an explicit keyword will result in an error or misinterpretation.\n",
            "  FutureWarning\n"
          ],
          "name": "stderr"
        },
        {
          "output_type": "execute_result",
          "data": {
            "text/plain": [
              "Text(0, 0.5, 'Coût de la solution')"
            ]
          },
          "metadata": {
            "tags": []
          },
          "execution_count": 49
        },
        {
          "output_type": "display_data",
          "data": {
            "image/png": "[encoded data removed]",
            "text/plain": [
              "<Figure size 432x288 with 1 Axes>"
            ]
          },
          "metadata": {
            "tags": [],
            "needs_background": "light"
          }
        }
      ]
    },
    {
      "cell_type": "markdown",
      "metadata": {
        "id": "3J1ZRzfgC9Sy"
      },
      "source": [
        "#Données plus compexes"
      ]
    },
    {
      "cell_type": "markdown",
      "metadata": {
        "id": "ezG5IRaTDDhr"
      },
      "source": [
        "\n",
        "\n",
        "*   5 classes par prof\n",
        "*   2 séances par classe\n",
        "*   10 séances par prof\n",
        "*   10 profs par classe\n",
        "*   20 classes\n",
        "\n",
        "\n",
        "\n",
        "\n",
        "\n"
      ]
    },
    {
      "cell_type": "code",
      "metadata": {
        "id": "PegZpyaGQgKU"
      },
      "source": [
        "List_temps=[]\n",
        "List_coût=[]\n",
        "List_Algo=['Solution_hasard','Monte_Carlo','Glouton','GloutonAlea','Tabou']"
      ],
      "execution_count": null,
      "outputs": []
    },
    {
      "cell_type": "code",
      "metadata": {
        "id": "oauidaA5FeBQ"
      },
      "source": [
        "K=20\n",
        "m=32\n",
        "n=20\n",
        "ProbEd=ProbEdt(K,m,n)"
      ],
      "execution_count": null,
      "outputs": []
    },
    {
      "cell_type": "code",
      "metadata": {
        "id": "cdAwbikbGHHw"
      },
      "source": [
        "start_time = time.time()\n",
        "Solution_ahas=ProbEd.solutions_hasard(method='complexe')\n",
        "end_time = time.time()\n",
        "total_time=end_time-start_time\n",
        "List_temps.append(total_time)"
      ],
      "execution_count": null,
      "outputs": []
    },
    {
      "cell_type": "code",
      "metadata": {
        "id": "m6GRvCAsJBEE"
      },
      "source": [
        "ProbEd.coût(Solution_ahas)\n",
        "List_coût.append(ProbEd.coût(Solution_ahas))"
      ],
      "execution_count": null,
      "outputs": []
    },
    {
      "cell_type": "code",
      "metadata": {
        "id": "NSsoYLgkJEgL"
      },
      "source": [
        "start_time = time.time()\n",
        "Mont_carlo(10000,ProbEd,Solution_ahas)\n",
        "end_time = time.time()\n",
        "total_time=end_time-start_time\n",
        "List_temps.append(total_time)"
      ],
      "execution_count": null,
      "outputs": []
    },
    {
      "cell_type": "code",
      "metadata": {
        "id": "Rje2HmojJEcP"
      },
      "source": [
        "ProbEd.coût(Mont_carlo(10000,ProbEd,Solution_ahas))\n",
        "List_coût.append(ProbEd.coût(Mont_carlo(10000,ProbEd,Solution_ahas)))"
      ],
      "execution_count": null,
      "outputs": []
    },
    {
      "cell_type": "code",
      "metadata": {
        "id": "f9871aBTJEZI"
      },
      "source": [
        "start_time = time.time()\n",
        "Glouton(ProbEd,Solution_ahas)\n",
        "end_time = time.time()\n",
        "total_time=end_time-start_time\n",
        "List_temps.append(total_time)"
      ],
      "execution_count": null,
      "outputs": []
    },
    {
      "cell_type": "code",
      "metadata": {
        "id": "SiMCjvO3JEV5"
      },
      "source": [
        "ProbEd.coût(Glouton(ProbEd,Solution_ahas))\n",
        "List_coût.append(ProbEd.coût(Glouton(ProbEd,Solution_ahas)))"
      ],
      "execution_count": null,
      "outputs": []
    },
    {
      "cell_type": "code",
      "metadata": {
        "id": "zLhGWFDGJERU"
      },
      "source": [
        "start_time = time.time()\n",
        "GloutonAleat(1000,ProbEd,Solution_ahas,method='complexe')\n",
        "end_time = time.time()\n",
        "total_time=end_time-start_time\n",
        "List_temps.append(total_time)"
      ],
      "execution_count": null,
      "outputs": []
    },
    {
      "cell_type": "code",
      "metadata": {
        "id": "AnY3N3fdJbg9"
      },
      "source": [
        "ProbEd.coût(GloutonAleat(1000,ProbEd,Solution_ahas,method='complexe'))\n",
        "List_coût.append(ProbEd.coût(GloutonAleat(1000,ProbEd,Solution_ahas,method='complexe')))"
      ],
      "execution_count": null,
      "outputs": []
    },
    {
      "cell_type": "code",
      "metadata": {
        "id": "sbmof6aiJeUL"
      },
      "source": [
        "start_time = time.time()\n",
        "Tabou(Solution_ahas,K,ProbEd)\n",
        "end_time = time.time()\n",
        "total_time=end_time-start_time\n",
        "List_temps.append(total_time)"
      ],
      "execution_count": null,
      "outputs": []
    },
    {
      "cell_type": "code",
      "metadata": {
        "id": "quXUDPNRJgoy"
      },
      "source": [
        "ProbEd.coût(Tabou(Solution_ahas,K,ProbEd))\n",
        "List_coût.append(ProbEd.coût(Tabou(Solution_ahas,K,ProbEd)))"
      ],
      "execution_count": null,
      "outputs": []
    },
    {
      "cell_type": "code",
      "metadata": {
        "id": "WG_bI9-SW21D"
      },
      "source": [
        "df = pd.DataFrame(dict(List_Algo=List_Algo,List_temps=List_temps, List_coût=List_coût))"
      ],
      "execution_count": null,
      "outputs": []
    },
    {
      "cell_type": "code",
      "metadata": {
        "colab": {
          "base_uri": "https://localhost:8080/"
        },
        "id": "uFm8VgzlW7dW",
        "outputId": "7f72ca1f-7b67-40bc-cbd4-bde26033164b"
      },
      "source": [
        "df"
      ],
      "execution_count": null,
      "outputs": [
        {
          "output_type": "execute_result",
          "data": {
            "text/html": [
              "<div>\n",
              "<style scoped>\n",
              "    .dataframe tbody tr th:only-of-type {\n",
              "        vertical-align: middle;\n",
              "    }\n",
              "\n",
              "    .dataframe tbody tr th {\n",
              "        vertical-align: top;\n",
              "    }\n",
              "\n",
              "    .dataframe thead th {\n",
              "        text-align: right;\n",
              "    }\n",
              "</style>\n",
              "<table border=\"1\" class=\"dataframe\">\n",
              "  <thead>\n",
              "    <tr style=\"text-align: right;\">\n",
              "      <th></th>\n",
              "      <th>List_Algo</th>\n",
              "      <th>List_temps</th>\n",
              "      <th>List_coût</th>\n",
              "    </tr>\n",
              "  </thead>\n",
              "  <tbody>\n",
              "    <tr>\n",
              "      <th>0</th>\n",
              "      <td>Solution_hasard</td>\n",
              "      <td>0.001207</td>\n",
              "      <td>86</td>\n",
              "    </tr>\n",
              "    <tr>\n",
              "      <th>1</th>\n",
              "      <td>Monte_Carlo</td>\n",
              "      <td>2.056559</td>\n",
              "      <td>49</td>\n",
              "    </tr>\n",
              "    <tr>\n",
              "      <th>2</th>\n",
              "      <td>Glouton</td>\n",
              "      <td>28.191417</td>\n",
              "      <td>0</td>\n",
              "    </tr>\n",
              "    <tr>\n",
              "      <th>3</th>\n",
              "      <td>GloutonAlea</td>\n",
              "      <td>0.955633</td>\n",
              "      <td>55</td>\n",
              "    </tr>\n",
              "    <tr>\n",
              "      <th>4</th>\n",
              "      <td>Tabou</td>\n",
              "      <td>11.027434</td>\n",
              "      <td>50</td>\n",
              "    </tr>\n",
              "  </tbody>\n",
              "</table>\n",
              "</div>"
            ],
            "text/plain": [
              "         List_Algo  List_temps  List_coût\n",
              "0  Solution_hasard    0.001207         86\n",
              "1      Monte_Carlo    2.056559         49\n",
              "2          Glouton   28.191417          0\n",
              "3      GloutonAlea    0.955633         55\n",
              "4            Tabou   11.027434         50"
            ]
          },
          "metadata": {
            "tags": []
          },
          "execution_count": 79
        }
      ]
    },
    {
      "cell_type": "code",
      "metadata": {
        "colab": {
          "base_uri": "https://localhost:8080/"
        },
        "id": "NZDmq5q5W8HY",
        "outputId": "4e38f574-4e9d-4ae4-eb70-848745897478"
      },
      "source": [
        "sns.scatterplot(List_temps, List_coût, data=df,hue=List_Algo)\n",
        "plt.xlabel(\"temps d'exécution en secondes\",color='blue')\n",
        "plt.ylabel('Coût de la solution', color='blue')"
      ],
      "execution_count": null,
      "outputs": [
        {
          "output_type": "stream",
          "text": [
            "/usr/local/lib/python3.7/dist-packages/seaborn/_decorators.py:43: FutureWarning: Pass the following variables as keyword args: x, y. From version 0.12, the only valid positional argument will be `data`, and passing other arguments without an explicit keyword will result in an error or misinterpretation.\n",
            "  FutureWarning\n"
          ],
          "name": "stderr"
        },
        {
          "output_type": "execute_result",
          "data": {
            "text/plain": [
              "Text(0, 0.5, 'Coût de la solution')"
            ]
          },
          "metadata": {
            "tags": []
          },
          "execution_count": 80
        },
        {
          "output_type": "display_data",
          "data": {
            "image/png": "[encoded data removed]",
            "text/plain": [
              "<Figure size 432x288 with 1 Axes>"
            ]
          },
          "metadata": {
            "tags": [],
            "needs_background": "light"
          }
        }
      ]
    }
  ]
}